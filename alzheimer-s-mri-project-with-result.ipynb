{
 "cells": [
  {
   "cell_type": "code",
   "execution_count": 1,
   "id": "ad65fe8e",
   "metadata": {
    "_cell_guid": "b1076dfc-b9ad-4769-8c92-a6c4dae69d19",
    "_uuid": "8f2839f25d086af736a60e9eeb907d3b93b6e0e5",
    "execution": {
     "iopub.execute_input": "2022-04-24T22:00:44.616251Z",
     "iopub.status.busy": "2022-04-24T22:00:44.614871Z",
     "iopub.status.idle": "2022-04-24T22:00:44.620882Z",
     "shell.execute_reply": "2022-04-24T22:00:44.620127Z",
     "shell.execute_reply.started": "2022-04-24T20:21:05.720281Z"
    },
    "papermill": {
     "duration": 0.053702,
     "end_time": "2022-04-24T22:00:44.621075",
     "exception": false,
     "start_time": "2022-04-24T22:00:44.567373",
     "status": "completed"
    },
    "tags": []
   },
   "outputs": [],
   "source": [
    "#setup environment\n",
    "import numpy as np \n",
    "import pandas as pd \n",
    "import os"
   ]
  },
  {
   "cell_type": "code",
   "execution_count": 2,
   "id": "ff191d83",
   "metadata": {
    "execution": {
     "iopub.execute_input": "2022-04-24T22:00:44.699505Z",
     "iopub.status.busy": "2022-04-24T22:00:44.698694Z",
     "iopub.status.idle": "2022-04-24T22:00:44.702965Z",
     "shell.execute_reply": "2022-04-24T22:00:44.702396Z",
     "shell.execute_reply.started": "2022-04-24T20:21:05.726330Z"
    },
    "papermill": {
     "duration": 0.044943,
     "end_time": "2022-04-24T22:00:44.703122",
     "exception": false,
     "start_time": "2022-04-24T22:00:44.658179",
     "status": "completed"
    },
    "tags": []
   },
   "outputs": [],
   "source": [
    "import matplotlib.pyplot as plt\n",
    "from PIL import Image"
   ]
  },
  {
   "cell_type": "code",
   "execution_count": 3,
   "id": "386d409d",
   "metadata": {
    "execution": {
     "iopub.execute_input": "2022-04-24T22:00:44.778621Z",
     "iopub.status.busy": "2022-04-24T22:00:44.777909Z",
     "iopub.status.idle": "2022-04-24T22:00:44.780558Z",
     "shell.execute_reply": "2022-04-24T22:00:44.779935Z",
     "shell.execute_reply.started": "2022-04-24T20:21:05.739087Z"
    },
    "papermill": {
     "duration": 0.041366,
     "end_time": "2022-04-24T22:00:44.780694",
     "exception": false,
     "start_time": "2022-04-24T22:00:44.739328",
     "status": "completed"
    },
    "tags": []
   },
   "outputs": [],
   "source": [
    "#import data from kaggle database\n",
    "data_src=\"/kaggle/input/alzheimer-mri-dataset/Dataset/\""
   ]
  },
  {
   "cell_type": "markdown",
   "id": "5abce0d7",
   "metadata": {
    "papermill": {
     "duration": 0.033983,
     "end_time": "2022-04-24T22:00:44.849509",
     "exception": false,
     "start_time": "2022-04-24T22:00:44.815526",
     "status": "completed"
    },
    "tags": []
   },
   "source": [
    "Store image in data array and class label in y array"
   ]
  },
  {
   "cell_type": "code",
   "execution_count": 4,
   "id": "fc5f549b",
   "metadata": {
    "execution": {
     "iopub.execute_input": "2022-04-24T22:00:44.923107Z",
     "iopub.status.busy": "2022-04-24T22:00:44.922299Z",
     "iopub.status.idle": "2022-04-24T22:01:19.241509Z",
     "shell.execute_reply": "2022-04-24T22:01:19.240613Z",
     "shell.execute_reply.started": "2022-04-24T20:21:05.751505Z"
    },
    "papermill": {
     "duration": 34.356708,
     "end_time": "2022-04-24T22:01:19.241695",
     "exception": false,
     "start_time": "2022-04-24T22:00:44.884987",
     "status": "completed"
    },
    "tags": []
   },
   "outputs": [],
   "source": [
    "data=[]\n",
    "y=[]\n",
    "for d in os.listdir(data_src):\n",
    "    for file in os.listdir(data_src+d):\n",
    "        data.append(Image.open(data_src+d+'/'+file))\n",
    "        y.append(d)"
   ]
  },
  {
   "cell_type": "markdown",
   "id": "13d79e3e",
   "metadata": {
    "papermill": {
     "duration": 0.039689,
     "end_time": "2022-04-24T22:01:19.322786",
     "exception": false,
     "start_time": "2022-04-24T22:01:19.283097",
     "status": "completed"
    },
    "tags": []
   },
   "source": [
    "Convert each image into a numpy array"
   ]
  },
  {
   "cell_type": "code",
   "execution_count": 5,
   "id": "3d56e730",
   "metadata": {
    "execution": {
     "iopub.execute_input": "2022-04-24T22:01:19.403030Z",
     "iopub.status.busy": "2022-04-24T22:01:19.402288Z",
     "iopub.status.idle": "2022-04-24T22:01:24.039406Z",
     "shell.execute_reply": "2022-04-24T22:01:24.039875Z",
     "shell.execute_reply.started": "2022-04-24T20:21:11.853300Z"
    },
    "papermill": {
     "duration": 4.681073,
     "end_time": "2022-04-24T22:01:24.040068",
     "exception": false,
     "start_time": "2022-04-24T22:01:19.358995",
     "status": "completed"
    },
    "tags": []
   },
   "outputs": [],
   "source": [
    "X=[]\n",
    "for im in data:\n",
    "    X.append(np.array(im))"
   ]
  },
  {
   "cell_type": "code",
   "execution_count": 6,
   "id": "9e8cfacf",
   "metadata": {
    "execution": {
     "iopub.execute_input": "2022-04-24T22:01:24.118208Z",
     "iopub.status.busy": "2022-04-24T22:01:24.116343Z",
     "iopub.status.idle": "2022-04-24T22:01:24.229287Z",
     "shell.execute_reply": "2022-04-24T22:01:24.228641Z",
     "shell.execute_reply.started": "2022-04-24T20:21:13.152485Z"
    },
    "papermill": {
     "duration": 0.154955,
     "end_time": "2022-04-24T22:01:24.229466",
     "exception": false,
     "start_time": "2022-04-24T22:01:24.074511",
     "status": "completed"
    },
    "tags": []
   },
   "outputs": [],
   "source": [
    "#Convert the list of data into an array\n",
    "X=np.array(X)"
   ]
  },
  {
   "cell_type": "code",
   "execution_count": 7,
   "id": "90578d4c",
   "metadata": {
    "execution": {
     "iopub.execute_input": "2022-04-24T22:01:24.305372Z",
     "iopub.status.busy": "2022-04-24T22:01:24.304098Z",
     "iopub.status.idle": "2022-04-24T22:01:24.315896Z",
     "shell.execute_reply": "2022-04-24T22:01:24.317067Z",
     "shell.execute_reply.started": "2022-04-24T20:21:13.239139Z"
    },
    "papermill": {
     "duration": 0.053166,
     "end_time": "2022-04-24T22:01:24.317293",
     "exception": false,
     "start_time": "2022-04-24T22:01:24.264127",
     "status": "completed"
    },
    "tags": []
   },
   "outputs": [
    {
     "data": {
      "text/plain": [
       "(6400, 128, 128)"
      ]
     },
     "execution_count": 7,
     "metadata": {},
     "output_type": "execute_result"
    }
   ],
   "source": [
    "X.shape"
   ]
  },
  {
   "cell_type": "code",
   "execution_count": 8,
   "id": "016910c6",
   "metadata": {
    "execution": {
     "iopub.execute_input": "2022-04-24T22:01:24.392284Z",
     "iopub.status.busy": "2022-04-24T22:01:24.391300Z",
     "iopub.status.idle": "2022-04-24T22:01:24.919921Z",
     "shell.execute_reply": "2022-04-24T22:01:24.919325Z",
     "shell.execute_reply.started": "2022-04-24T20:21:13.248192Z"
    },
    "papermill": {
     "duration": 0.567348,
     "end_time": "2022-04-24T22:01:24.920092",
     "exception": false,
     "start_time": "2022-04-24T22:01:24.352744",
     "status": "completed"
    },
    "tags": []
   },
   "outputs": [],
   "source": [
    "#Divide by 255 to standardize the values between 0 and 1\n",
    "X=X/255"
   ]
  },
  {
   "cell_type": "markdown",
   "id": "b9ee990a",
   "metadata": {
    "papermill": {
     "duration": 0.03519,
     "end_time": "2022-04-24T22:01:24.992363",
     "exception": false,
     "start_time": "2022-04-24T22:01:24.957173",
     "status": "completed"
    },
    "tags": []
   },
   "source": [
    "MACHINE LEARNING SETUP"
   ]
  },
  {
   "cell_type": "code",
   "execution_count": 9,
   "id": "f4b24d5f",
   "metadata": {
    "execution": {
     "iopub.execute_input": "2022-04-24T22:01:25.071296Z",
     "iopub.status.busy": "2022-04-24T22:01:25.070644Z",
     "iopub.status.idle": "2022-04-24T22:01:26.370709Z",
     "shell.execute_reply": "2022-04-24T22:01:26.371187Z",
     "shell.execute_reply.started": "2022-04-24T20:21:13.847307Z"
    },
    "papermill": {
     "duration": 1.341823,
     "end_time": "2022-04-24T22:01:26.371397",
     "exception": false,
     "start_time": "2022-04-24T22:01:25.029574",
     "status": "completed"
    },
    "tags": []
   },
   "outputs": [],
   "source": [
    "from sklearn.model_selection import train_test_split"
   ]
  },
  {
   "cell_type": "code",
   "execution_count": 10,
   "id": "dc1186cc",
   "metadata": {
    "execution": {
     "iopub.execute_input": "2022-04-24T22:01:26.446434Z",
     "iopub.status.busy": "2022-04-24T22:01:26.445814Z",
     "iopub.status.idle": "2022-04-24T22:01:33.353014Z",
     "shell.execute_reply": "2022-04-24T22:01:33.352351Z",
     "shell.execute_reply.started": "2022-04-24T20:21:14.865939Z"
    },
    "papermill": {
     "duration": 6.946807,
     "end_time": "2022-04-24T22:01:33.353157",
     "exception": false,
     "start_time": "2022-04-24T22:01:26.406350",
     "status": "completed"
    },
    "tags": []
   },
   "outputs": [],
   "source": [
    "from tensorflow.keras.models import Sequential\n",
    "from tensorflow.keras.layers import Dense,Conv2D,MaxPooling2D,Flatten\n",
    "from tensorflow.keras.utils import to_categorical"
   ]
  },
  {
   "cell_type": "code",
   "execution_count": 11,
   "id": "31a1ade2",
   "metadata": {
    "execution": {
     "iopub.execute_input": "2022-04-24T22:01:33.431071Z",
     "iopub.status.busy": "2022-04-24T22:01:33.430428Z",
     "iopub.status.idle": "2022-04-24T22:01:33.435838Z",
     "shell.execute_reply": "2022-04-24T22:01:33.436495Z",
     "shell.execute_reply.started": "2022-04-24T20:21:20.632702Z"
    },
    "papermill": {
     "duration": 0.04899,
     "end_time": "2022-04-24T22:01:33.436690",
     "exception": false,
     "start_time": "2022-04-24T22:01:33.387700",
     "status": "completed"
    },
    "tags": []
   },
   "outputs": [
    {
     "name": "stdout",
     "output_type": "stream",
     "text": [
      "Non Demented:  3200\n",
      "Very Mild:  2240\n",
      "Moderate:  64\n",
      "Mild : 896\n"
     ]
    }
   ],
   "source": [
    "#count number of each category\n",
    "non=0\n",
    "mild=0\n",
    "mod=0\n",
    "vm=0\n",
    "for cat in y:\n",
    "    if cat==\"Mild_Demented\":\n",
    "        mild+=1\n",
    "    elif cat==\"Moderate_Demented\":\n",
    "        mod+=1\n",
    "    elif cat==\"Non_Demented\":\n",
    "        non+=1\n",
    "    else:\n",
    "        vm+=1\n",
    "print(\"Non Demented: \",non)\n",
    "print(\"Very Mild: \",vm)\n",
    "print(\"Moderate: \",mod)\n",
    "print(\"Mild :\",mild)\n"
   ]
  },
  {
   "cell_type": "code",
   "execution_count": 12,
   "id": "eae099b3",
   "metadata": {
    "execution": {
     "iopub.execute_input": "2022-04-24T22:01:33.510658Z",
     "iopub.status.busy": "2022-04-24T22:01:33.509935Z",
     "iopub.status.idle": "2022-04-24T22:01:33.518115Z",
     "shell.execute_reply": "2022-04-24T22:01:33.517628Z",
     "shell.execute_reply.started": "2022-04-24T20:21:20.644020Z"
    },
    "papermill": {
     "duration": 0.046499,
     "end_time": "2022-04-24T22:01:33.518273",
     "exception": false,
     "start_time": "2022-04-24T22:01:33.471774",
     "status": "completed"
    },
    "tags": []
   },
   "outputs": [],
   "source": [
    "#change labels from word to number to use to_categorical\n",
    "#0 will be non, 1 will be very mild, 2 will be mild, 3 will be moderate\n",
    "y_num=[]\n",
    "for cat in y:\n",
    "    if cat==\"Mild_Demented\":\n",
    "        y_num.append(2)\n",
    "    elif cat==\"Moderate_Demented\":\n",
    "        y_num.append(3)\n",
    "    elif cat==\"Non_Demented\":\n",
    "        y_num.append(0)\n",
    "    else:\n",
    "        y_num.append(1)"
   ]
  },
  {
   "cell_type": "code",
   "execution_count": 13,
   "id": "94bb9221",
   "metadata": {
    "execution": {
     "iopub.execute_input": "2022-04-24T22:01:33.593736Z",
     "iopub.status.busy": "2022-04-24T22:01:33.593006Z",
     "iopub.status.idle": "2022-04-24T22:01:33.597301Z",
     "shell.execute_reply": "2022-04-24T22:01:33.597793Z",
     "shell.execute_reply.started": "2022-04-24T20:21:20.666674Z"
    },
    "papermill": {
     "duration": 0.044777,
     "end_time": "2022-04-24T22:01:33.597968",
     "exception": false,
     "start_time": "2022-04-24T22:01:33.553191",
     "status": "completed"
    },
    "tags": []
   },
   "outputs": [],
   "source": [
    "#convert to a categorical target as expected by keras\n",
    "y=to_categorical(y_num)"
   ]
  },
  {
   "cell_type": "code",
   "execution_count": 14,
   "id": "9ebb59eb",
   "metadata": {
    "execution": {
     "iopub.execute_input": "2022-04-24T22:01:33.673650Z",
     "iopub.status.busy": "2022-04-24T22:01:33.672699Z",
     "iopub.status.idle": "2022-04-24T22:01:33.676533Z",
     "shell.execute_reply": "2022-04-24T22:01:33.677022Z",
     "shell.execute_reply.started": "2022-04-24T20:21:20.679560Z"
    },
    "papermill": {
     "duration": 0.044141,
     "end_time": "2022-04-24T22:01:33.677192",
     "exception": false,
     "start_time": "2022-04-24T22:01:33.633051",
     "status": "completed"
    },
    "tags": []
   },
   "outputs": [
    {
     "data": {
      "text/plain": [
       "(6400, 4)"
      ]
     },
     "execution_count": 14,
     "metadata": {},
     "output_type": "execute_result"
    }
   ],
   "source": [
    "y.shape"
   ]
  },
  {
   "cell_type": "code",
   "execution_count": 15,
   "id": "c9b683bc",
   "metadata": {
    "execution": {
     "iopub.execute_input": "2022-04-24T22:01:33.753780Z",
     "iopub.status.busy": "2022-04-24T22:01:33.752892Z",
     "iopub.status.idle": "2022-04-24T22:01:33.756305Z",
     "shell.execute_reply": "2022-04-24T22:01:33.755738Z",
     "shell.execute_reply.started": "2022-04-24T20:21:20.689793Z"
    },
    "papermill": {
     "duration": 0.04346,
     "end_time": "2022-04-24T22:01:33.756438",
     "exception": false,
     "start_time": "2022-04-24T22:01:33.712978",
     "status": "completed"
    },
    "tags": []
   },
   "outputs": [],
   "source": [
    "#Reshape to use in a neural network\n",
    "X=X.reshape(6400,128,128,1)"
   ]
  },
  {
   "cell_type": "code",
   "execution_count": 16,
   "id": "130f9a8d",
   "metadata": {
    "execution": {
     "iopub.execute_input": "2022-04-24T22:01:33.832093Z",
     "iopub.status.busy": "2022-04-24T22:01:33.831477Z",
     "iopub.status.idle": "2022-04-24T22:01:34.710559Z",
     "shell.execute_reply": "2022-04-24T22:01:34.709994Z",
     "shell.execute_reply.started": "2022-04-24T20:21:20.697892Z"
    },
    "papermill": {
     "duration": 0.919094,
     "end_time": "2022-04-24T22:01:34.710707",
     "exception": false,
     "start_time": "2022-04-24T22:01:33.791613",
     "status": "completed"
    },
    "tags": []
   },
   "outputs": [],
   "source": [
    "#Split into a training set and test set\n",
    "X_train,X_test,y_train,y_test=train_test_split(X,y,test_size=0.25,random_state=25)"
   ]
  },
  {
   "cell_type": "code",
   "execution_count": 17,
   "id": "4e6423cc",
   "metadata": {
    "execution": {
     "iopub.execute_input": "2022-04-24T22:01:34.788709Z",
     "iopub.status.busy": "2022-04-24T22:01:34.787855Z",
     "iopub.status.idle": "2022-04-24T22:01:34.791740Z",
     "shell.execute_reply": "2022-04-24T22:01:34.792331Z",
     "shell.execute_reply.started": "2022-04-24T20:21:21.310060Z"
    },
    "papermill": {
     "duration": 0.045937,
     "end_time": "2022-04-24T22:01:34.792541",
     "exception": false,
     "start_time": "2022-04-24T22:01:34.746604",
     "status": "completed"
    },
    "tags": []
   },
   "outputs": [
    {
     "name": "stdout",
     "output_type": "stream",
     "text": [
      "(4800, 128, 128, 1) (1600, 128, 128, 1) (4800, 4) (1600, 4)\n"
     ]
    }
   ],
   "source": [
    "print(X_train.shape,X_test.shape,y_train.shape,y_test.shape)"
   ]
  },
  {
   "cell_type": "code",
   "execution_count": 18,
   "id": "48c47260",
   "metadata": {
    "execution": {
     "iopub.execute_input": "2022-04-24T22:01:34.870858Z",
     "iopub.status.busy": "2022-04-24T22:01:34.869855Z",
     "iopub.status.idle": "2022-04-24T22:01:35.065249Z",
     "shell.execute_reply": "2022-04-24T22:01:35.064703Z",
     "shell.execute_reply.started": "2022-04-24T21:32:00.401432Z"
    },
    "papermill": {
     "duration": 0.236724,
     "end_time": "2022-04-24T22:01:35.065415",
     "exception": false,
     "start_time": "2022-04-24T22:01:34.828691",
     "status": "completed"
    },
    "tags": []
   },
   "outputs": [
    {
     "name": "stderr",
     "output_type": "stream",
     "text": [
      "2022-04-24 22:01:34.915655: I tensorflow/core/common_runtime/process_util.cc:146] Creating new thread pool with default inter op setting: 2. Tune using inter_op_parallelism_threads for best performance.\n"
     ]
    }
   ],
   "source": [
    "#Create the model\n",
    "cnn=Sequential()\n",
    "#initially 64 convolution nodes\n",
    "cnn.add(Conv2D(64,(3,3),padding=\"same\",activation='relu',input_shape=X_train.shape[1:]))\n",
    "#add a Max Pooling layer\n",
    "cnn.add(MaxPooling2D())\n",
    "#another 32 convolution nodes\n",
    "cnn.add(Conv2D(32,(3,3),padding=\"same\",activation='relu'))\n",
    "#Add a max pooling\n",
    "cnn.add(MaxPooling2D())\n",
    "#Add 32 convolutions\n",
    "cnn.add(Conv2D(32,(3,3),padding=\"same\",activation='relu'))\n",
    "#Add a max pooling\n",
    "cnn.add(MaxPooling2D())\n",
    "#Flatten before adding fully connected layer\n",
    "cnn.add(Flatten())\n",
    "#Add a hidden layer with 100 nodes\n",
    "cnn.add(Dense(100,activation='relu'))\n",
    "#Add final output layer with 4 output nodes using softmax\n",
    "cnn.add(Dense(4,activation='softmax'))"
   ]
  },
  {
   "cell_type": "code",
   "execution_count": 19,
   "id": "fd9e9b98",
   "metadata": {
    "execution": {
     "iopub.execute_input": "2022-04-24T22:01:35.145527Z",
     "iopub.status.busy": "2022-04-24T22:01:35.144573Z",
     "iopub.status.idle": "2022-04-24T22:01:35.152723Z",
     "shell.execute_reply": "2022-04-24T22:01:35.152055Z",
     "shell.execute_reply.started": "2022-04-24T21:32:13.006216Z"
    },
    "papermill": {
     "duration": 0.051354,
     "end_time": "2022-04-24T22:01:35.152862",
     "exception": false,
     "start_time": "2022-04-24T22:01:35.101508",
     "status": "completed"
    },
    "tags": []
   },
   "outputs": [
    {
     "name": "stdout",
     "output_type": "stream",
     "text": [
      "Model: \"sequential\"\n",
      "_________________________________________________________________\n",
      "Layer (type)                 Output Shape              Param #   \n",
      "=================================================================\n",
      "conv2d (Conv2D)              (None, 128, 128, 64)      640       \n",
      "_________________________________________________________________\n",
      "max_pooling2d (MaxPooling2D) (None, 64, 64, 64)        0         \n",
      "_________________________________________________________________\n",
      "conv2d_1 (Conv2D)            (None, 64, 64, 32)        18464     \n",
      "_________________________________________________________________\n",
      "max_pooling2d_1 (MaxPooling2 (None, 32, 32, 32)        0         \n",
      "_________________________________________________________________\n",
      "conv2d_2 (Conv2D)            (None, 32, 32, 32)        9248      \n",
      "_________________________________________________________________\n",
      "max_pooling2d_2 (MaxPooling2 (None, 16, 16, 32)        0         \n",
      "_________________________________________________________________\n",
      "flatten (Flatten)            (None, 8192)              0         \n",
      "_________________________________________________________________\n",
      "dense (Dense)                (None, 100)               819300    \n",
      "_________________________________________________________________\n",
      "dense_1 (Dense)              (None, 4)                 404       \n",
      "=================================================================\n",
      "Total params: 848,056\n",
      "Trainable params: 848,056\n",
      "Non-trainable params: 0\n",
      "_________________________________________________________________\n"
     ]
    }
   ],
   "source": [
    "cnn.summary()"
   ]
  },
  {
   "cell_type": "code",
   "execution_count": 20,
   "id": "e8cc7b3a",
   "metadata": {
    "execution": {
     "iopub.execute_input": "2022-04-24T22:01:35.229739Z",
     "iopub.status.busy": "2022-04-24T22:01:35.229081Z",
     "iopub.status.idle": "2022-04-24T22:01:35.243518Z",
     "shell.execute_reply": "2022-04-24T22:01:35.243978Z",
     "shell.execute_reply.started": "2022-04-24T21:32:16.990051Z"
    },
    "papermill": {
     "duration": 0.054191,
     "end_time": "2022-04-24T22:01:35.244161",
     "exception": false,
     "start_time": "2022-04-24T22:01:35.189970",
     "status": "completed"
    },
    "tags": []
   },
   "outputs": [],
   "source": [
    "cnn.compile(optimizer='adam',loss='categorical_crossentropy',metrics='accuracy')"
   ]
  },
  {
   "cell_type": "code",
   "execution_count": 21,
   "id": "c9634826",
   "metadata": {
    "execution": {
     "iopub.execute_input": "2022-04-24T22:01:35.320375Z",
     "iopub.status.busy": "2022-04-24T22:01:35.319743Z",
     "iopub.status.idle": "2022-04-24T22:24:07.797055Z",
     "shell.execute_reply": "2022-04-24T22:24:07.796471Z",
     "shell.execute_reply.started": "2022-04-24T21:32:47.893109Z"
    },
    "papermill": {
     "duration": 1352.516645,
     "end_time": "2022-04-24T22:24:07.797304",
     "exception": false,
     "start_time": "2022-04-24T22:01:35.280659",
     "status": "completed"
    },
    "tags": []
   },
   "outputs": [
    {
     "name": "stderr",
     "output_type": "stream",
     "text": [
      "2022-04-24 22:01:35.960182: I tensorflow/compiler/mlir/mlir_graph_optimization_pass.cc:185] None of the MLIR Optimization Passes are enabled (registered 2)\n"
     ]
    },
    {
     "name": "stdout",
     "output_type": "stream",
     "text": [
      "Epoch 1/25\n",
      "150/150 [==============================] - 55s 360ms/step - loss: 1.0172 - accuracy: 0.5046 - val_loss: 0.9823 - val_accuracy: 0.5144\n",
      "Epoch 2/25\n",
      "150/150 [==============================] - 54s 358ms/step - loss: 0.8942 - accuracy: 0.5948 - val_loss: 0.8258 - val_accuracy: 0.6087\n",
      "Epoch 3/25\n",
      "150/150 [==============================] - 53s 356ms/step - loss: 0.7155 - accuracy: 0.6852 - val_loss: 0.5873 - val_accuracy: 0.7375\n",
      "Epoch 4/25\n",
      "150/150 [==============================] - 54s 358ms/step - loss: 0.4726 - accuracy: 0.8023 - val_loss: 0.4236 - val_accuracy: 0.8144\n",
      "Epoch 5/25\n",
      "150/150 [==============================] - 54s 359ms/step - loss: 0.2878 - accuracy: 0.8908 - val_loss: 0.3129 - val_accuracy: 0.8869\n",
      "Epoch 6/25\n",
      "150/150 [==============================] - 54s 359ms/step - loss: 0.1608 - accuracy: 0.9415 - val_loss: 0.2308 - val_accuracy: 0.9144\n",
      "Epoch 7/25\n",
      "150/150 [==============================] - 54s 359ms/step - loss: 0.0841 - accuracy: 0.9733 - val_loss: 0.1912 - val_accuracy: 0.9287\n",
      "Epoch 8/25\n",
      "150/150 [==============================] - 54s 359ms/step - loss: 0.0411 - accuracy: 0.9875 - val_loss: 0.1404 - val_accuracy: 0.9494\n",
      "Epoch 9/25\n",
      "150/150 [==============================] - 53s 357ms/step - loss: 0.0193 - accuracy: 0.9969 - val_loss: 0.1274 - val_accuracy: 0.9581\n",
      "Epoch 10/25\n",
      "150/150 [==============================] - 54s 360ms/step - loss: 0.0381 - accuracy: 0.9871 - val_loss: 0.1375 - val_accuracy: 0.9525\n",
      "Epoch 11/25\n",
      "150/150 [==============================] - 54s 360ms/step - loss: 0.0072 - accuracy: 0.9994 - val_loss: 0.1732 - val_accuracy: 0.9469\n",
      "Epoch 12/25\n",
      "150/150 [==============================] - 54s 360ms/step - loss: 0.0136 - accuracy: 0.9952 - val_loss: 0.1032 - val_accuracy: 0.9669\n",
      "Epoch 13/25\n",
      "150/150 [==============================] - 54s 363ms/step - loss: 0.0121 - accuracy: 0.9960 - val_loss: 0.1210 - val_accuracy: 0.9581\n",
      "Epoch 14/25\n",
      "150/150 [==============================] - 53s 356ms/step - loss: 0.0479 - accuracy: 0.9819 - val_loss: 0.3121 - val_accuracy: 0.8988\n",
      "Epoch 15/25\n",
      "150/150 [==============================] - 54s 362ms/step - loss: 0.0356 - accuracy: 0.9869 - val_loss: 0.0936 - val_accuracy: 0.9750\n",
      "Epoch 16/25\n",
      "150/150 [==============================] - 55s 364ms/step - loss: 0.0021 - accuracy: 0.9998 - val_loss: 0.0798 - val_accuracy: 0.9794\n",
      "Epoch 17/25\n",
      "150/150 [==============================] - 53s 356ms/step - loss: 6.9574e-04 - accuracy: 1.0000 - val_loss: 0.0747 - val_accuracy: 0.9806\n",
      "Epoch 18/25\n",
      "150/150 [==============================] - 54s 362ms/step - loss: 2.6282e-04 - accuracy: 1.0000 - val_loss: 0.0730 - val_accuracy: 0.9819\n",
      "Epoch 19/25\n",
      "150/150 [==============================] - 54s 362ms/step - loss: 2.0150e-04 - accuracy: 1.0000 - val_loss: 0.0736 - val_accuracy: 0.9831\n",
      "Epoch 20/25\n",
      "150/150 [==============================] - 54s 357ms/step - loss: 1.6211e-04 - accuracy: 1.0000 - val_loss: 0.0733 - val_accuracy: 0.9831\n",
      "Epoch 21/25\n",
      "150/150 [==============================] - 55s 366ms/step - loss: 1.3506e-04 - accuracy: 1.0000 - val_loss: 0.0711 - val_accuracy: 0.9844\n",
      "Epoch 22/25\n",
      "150/150 [==============================] - 55s 368ms/step - loss: 1.1486e-04 - accuracy: 1.0000 - val_loss: 0.0715 - val_accuracy: 0.9844\n",
      "Epoch 23/25\n",
      "150/150 [==============================] - 54s 358ms/step - loss: 9.8570e-05 - accuracy: 1.0000 - val_loss: 0.0725 - val_accuracy: 0.9831\n",
      "Epoch 24/25\n",
      "150/150 [==============================] - 55s 368ms/step - loss: 8.6888e-05 - accuracy: 1.0000 - val_loss: 0.0728 - val_accuracy: 0.9831\n",
      "Epoch 25/25\n",
      "150/150 [==============================] - 55s 365ms/step - loss: 7.5970e-05 - accuracy: 1.0000 - val_loss: 0.0734 - val_accuracy: 0.9831\n"
     ]
    }
   ],
   "source": [
    "#Train the Convolutional Neural Network on the data\n",
    "history=cnn.fit(X_train,y_train,epochs=25,validation_data=(X_test,y_test))"
   ]
  },
  {
   "cell_type": "code",
   "execution_count": 22,
   "id": "26594bd3",
   "metadata": {
    "execution": {
     "iopub.execute_input": "2022-04-24T22:24:10.771294Z",
     "iopub.status.busy": "2022-04-24T22:24:10.770541Z",
     "iopub.status.idle": "2022-04-24T22:24:11.027461Z",
     "shell.execute_reply": "2022-04-24T22:24:11.028021Z",
     "shell.execute_reply.started": "2022-04-24T21:52:21.191112Z"
    },
    "papermill": {
     "duration": 1.761877,
     "end_time": "2022-04-24T22:24:11.028263",
     "exception": false,
     "start_time": "2022-04-24T22:24:09.266386",
     "status": "completed"
    },
    "tags": []
   },
   "outputs": [
    {
     "data": {
      "image/png": "[encoded data removed]",
      "text/plain": [
       "<Figure size 432x288 with 1 Axes>"
      ]
     },
     "metadata": {
      "needs_background": "light"
     },
     "output_type": "display_data"
    }
   ],
   "source": [
    "#Plot to see how the loss function changed\n",
    "plt.plot(range(1,26),history.history['loss'],marker=\"o\")\n",
    "plt.plot(range(1,26),history.history['val_loss'],marker=\"o\")\n",
    "plt.legend([\"Training Loss\",\"Validation Loss\"])\n",
    "plt.xlabel(\"Epoch\")\n",
    "plt.xticks(range(1,26))\n",
    "plt.show()"
   ]
  },
  {
   "cell_type": "code",
   "execution_count": 23,
   "id": "e98dee73",
   "metadata": {
    "execution": {
     "iopub.execute_input": "2022-04-24T22:24:14.173012Z",
     "iopub.status.busy": "2022-04-24T22:24:14.170690Z",
     "iopub.status.idle": "2022-04-24T22:24:14.337332Z",
     "shell.execute_reply": "2022-04-24T22:24:14.336805Z",
     "shell.execute_reply.started": "2022-04-24T21:52:38.966035Z"
    },
    "papermill": {
     "duration": 1.822563,
     "end_time": "2022-04-24T22:24:14.337487",
     "exception": false,
     "start_time": "2022-04-24T22:24:12.514924",
     "status": "completed"
    },
    "tags": []
   },
   "outputs": [
    {
     "data": {
      "image/png": "[encoded data removed]",
      "text/plain": [
       "<Figure size 432x288 with 1 Axes>"
      ]
     },
     "metadata": {
      "needs_background": "light"
     },
     "output_type": "display_data"
    }
   ],
   "source": [
    "#plot to see how the accuracy changed\n",
    "plt.plot(range(1,26),history.history['accuracy'],marker=\"o\")\n",
    "plt.plot(range(1,26),history.history['val_accuracy'],marker=\"o\")\n",
    "plt.legend([\"Training accuracy\",\"Validation accuracy\"])\n",
    "plt.xlabel(\"Epoch\")\n",
    "plt.xticks(range(1,26))\n",
    "plt.show()"
   ]
  },
  {
   "cell_type": "code",
   "execution_count": 24,
   "id": "a7650d77",
   "metadata": {
    "execution": {
     "iopub.execute_input": "2022-04-24T22:24:17.314980Z",
     "iopub.status.busy": "2022-04-24T22:24:17.313598Z",
     "iopub.status.idle": "2022-04-24T22:24:21.465878Z",
     "shell.execute_reply": "2022-04-24T22:24:21.464523Z",
     "shell.execute_reply.started": "2022-04-24T21:52:41.998175Z"
    },
    "papermill": {
     "duration": 5.655462,
     "end_time": "2022-04-24T22:24:21.466063",
     "exception": false,
     "start_time": "2022-04-24T22:24:15.810601",
     "status": "completed"
    },
    "tags": []
   },
   "outputs": [],
   "source": [
    "#Get a prediction from the neural network\n",
    "y_pred=cnn.predict(X_test)"
   ]
  },
  {
   "cell_type": "code",
   "execution_count": 25,
   "id": "67eeb71a",
   "metadata": {
    "execution": {
     "iopub.execute_input": "2022-04-24T22:24:24.412710Z",
     "iopub.status.busy": "2022-04-24T22:24:24.410272Z",
     "iopub.status.idle": "2022-04-24T22:24:24.421632Z",
     "shell.execute_reply": "2022-04-24T22:24:24.420904Z",
     "shell.execute_reply.started": "2022-04-24T21:52:47.492029Z"
    },
    "papermill": {
     "duration": 1.475294,
     "end_time": "2022-04-24T22:24:24.421818",
     "exception": false,
     "start_time": "2022-04-24T22:24:22.946524",
     "status": "completed"
    },
    "tags": []
   },
   "outputs": [],
   "source": [
    "#The prediction is a sequence of 4 probabilities. We choose the label with the highest probability\n",
    "y_val=[]\n",
    "for y in y_pred:\n",
    "    y_val.append(np.argmax(y))"
   ]
  },
  {
   "cell_type": "code",
   "execution_count": 26,
   "id": "2d47af47",
   "metadata": {
    "execution": {
     "iopub.execute_input": "2022-04-24T22:24:27.358462Z",
     "iopub.status.busy": "2022-04-24T22:24:27.357188Z",
     "iopub.status.idle": "2022-04-24T22:24:27.362413Z",
     "shell.execute_reply": "2022-04-24T22:24:27.361828Z",
     "shell.execute_reply.started": "2022-04-24T21:52:49.822486Z"
    },
    "papermill": {
     "duration": 1.461764,
     "end_time": "2022-04-24T22:24:27.362579",
     "exception": false,
     "start_time": "2022-04-24T22:24:25.900815",
     "status": "completed"
    },
    "tags": []
   },
   "outputs": [],
   "source": [
    "from sklearn.metrics import confusion_matrix,classification_report"
   ]
  },
  {
   "cell_type": "code",
   "execution_count": 27,
   "id": "58ea10ae",
   "metadata": {
    "execution": {
     "iopub.execute_input": "2022-04-24T22:24:30.438474Z",
     "iopub.status.busy": "2022-04-24T22:24:30.434623Z",
     "iopub.status.idle": "2022-04-24T22:24:30.441901Z",
     "shell.execute_reply": "2022-04-24T22:24:30.442518Z",
     "shell.execute_reply.started": "2022-04-24T21:52:52.497952Z"
    },
    "papermill": {
     "duration": 1.466991,
     "end_time": "2022-04-24T22:24:30.442725",
     "exception": false,
     "start_time": "2022-04-24T22:24:28.975734",
     "status": "completed"
    },
    "tags": []
   },
   "outputs": [],
   "source": [
    "#Convert back to labels 0-3\n",
    "y_true=[]\n",
    "for y in y_test:\n",
    "    y_true.append(np.argmax(y))"
   ]
  },
  {
   "cell_type": "code",
   "execution_count": 28,
   "id": "19d061c3",
   "metadata": {
    "execution": {
     "iopub.execute_input": "2022-04-24T22:24:33.375176Z",
     "iopub.status.busy": "2022-04-24T22:24:33.374431Z",
     "iopub.status.idle": "2022-04-24T22:24:33.380418Z",
     "shell.execute_reply": "2022-04-24T22:24:33.381008Z",
     "shell.execute_reply.started": "2022-04-24T21:52:56.310947Z"
    },
    "papermill": {
     "duration": 1.483222,
     "end_time": "2022-04-24T22:24:33.381226",
     "exception": false,
     "start_time": "2022-04-24T22:24:31.898004",
     "status": "completed"
    },
    "tags": []
   },
   "outputs": [
    {
     "name": "stdout",
     "output_type": "stream",
     "text": [
      "[[808  12   1   0]\n",
      " [  5 547   1   0]\n",
      " [  1   7 207   0]\n",
      " [  0   0   0  11]]\n"
     ]
    }
   ],
   "source": [
    "#Let's see how the predictions did\n",
    "print(confusion_matrix(y_true,y_val))"
   ]
  },
  {
   "cell_type": "code",
   "execution_count": 29,
   "id": "ef0eb01e",
   "metadata": {
    "execution": {
     "iopub.execute_input": "2022-04-24T22:24:36.306059Z",
     "iopub.status.busy": "2022-04-24T22:24:36.305362Z",
     "iopub.status.idle": "2022-04-24T22:24:36.316749Z",
     "shell.execute_reply": "2022-04-24T22:24:36.317483Z",
     "shell.execute_reply.started": "2022-04-24T21:53:00.155486Z"
    },
    "papermill": {
     "duration": 1.483025,
     "end_time": "2022-04-24T22:24:36.317697",
     "exception": false,
     "start_time": "2022-04-24T22:24:34.834672",
     "status": "completed"
    },
    "tags": []
   },
   "outputs": [
    {
     "name": "stdout",
     "output_type": "stream",
     "text": [
      "              precision    recall  f1-score   support\n",
      "\n",
      "           0       0.99      0.98      0.99       821\n",
      "           1       0.97      0.99      0.98       553\n",
      "           2       0.99      0.96      0.98       215\n",
      "           3       1.00      1.00      1.00        11\n",
      "\n",
      "    accuracy                           0.98      1600\n",
      "   macro avg       0.99      0.98      0.99      1600\n",
      "weighted avg       0.98      0.98      0.98      1600\n",
      "\n"
     ]
    }
   ],
   "source": [
    "print(classification_report(y_true,y_val))"
   ]
  },
  {
   "cell_type": "code",
   "execution_count": 30,
   "id": "4b0f9e76",
   "metadata": {
    "execution": {
     "iopub.execute_input": "2022-04-24T22:24:39.272496Z",
     "iopub.status.busy": "2022-04-24T22:24:39.271785Z",
     "iopub.status.idle": "2022-04-24T22:24:39.274808Z",
     "shell.execute_reply": "2022-04-24T22:24:39.275363Z",
     "shell.execute_reply.started": "2022-04-24T21:54:41.660819Z"
    },
    "papermill": {
     "duration": 1.479084,
     "end_time": "2022-04-24T22:24:39.275554",
     "exception": false,
     "start_time": "2022-04-24T22:24:37.796470",
     "status": "completed"
    },
    "tags": []
   },
   "outputs": [],
   "source": [
    "from sklearn.metrics import accuracy_score"
   ]
  },
  {
   "cell_type": "code",
   "execution_count": 31,
   "id": "a4b7e981",
   "metadata": {
    "execution": {
     "iopub.execute_input": "2022-04-24T22:24:42.323794Z",
     "iopub.status.busy": "2022-04-24T22:24:42.323014Z",
     "iopub.status.idle": "2022-04-24T22:24:42.327861Z",
     "shell.execute_reply": "2022-04-24T22:24:42.328373Z",
     "shell.execute_reply.started": "2022-04-24T21:54:38.395493Z"
    },
    "papermill": {
     "duration": 1.479554,
     "end_time": "2022-04-24T22:24:42.328571",
     "exception": false,
     "start_time": "2022-04-24T22:24:40.849017",
     "status": "completed"
    },
    "tags": []
   },
   "outputs": [
    {
     "name": "stdout",
     "output_type": "stream",
     "text": [
      "Accuracy on test data:  0.983125\n"
     ]
    }
   ],
   "source": [
    "print(\"Accuracy on test data: \",accuracy_score(y_true,y_val))"
   ]
  },
  {
   "cell_type": "markdown",
   "id": "ebd1c161",
   "metadata": {
    "papermill": {
     "duration": 1.470809,
     "end_time": "2022-04-24T22:24:45.289500",
     "exception": false,
     "start_time": "2022-04-24T22:24:43.818691",
     "status": "completed"
    },
    "tags": []
   },
   "source": []
  },
  {
   "cell_type": "code",
   "execution_count": null,
   "id": "fa2a76cf",
   "metadata": {
    "papermill": {
     "duration": 1.436504,
     "end_time": "2022-04-24T22:24:48.185098",
     "exception": false,
     "start_time": "2022-04-24T22:24:46.748594",
     "status": "completed"
    },
    "tags": []
   },
   "outputs": [],
   "source": []
  }
 ],
 "metadata": {
  "kernelspec": {
   "display_name": "Python 3",
   "language": "python",
   "name": "python3"
  },
  "language_info": {
   "codemirror_mode": {
    "name": "ipython",
    "version": 3
   },
   "file_extension": ".py",
   "mimetype": "text/x-python",
   "name": "python",
   "nbconvert_exporter": "python",
   "pygments_lexer": "ipython3",
   "version": "3.7.12"
  },
  "papermill": {
   "default_parameters": {},
   "duration": 1459.525132,
   "end_time": "2022-04-24T22:24:52.843772",
   "environment_variables": {},
   "exception": null,
   "input_path": "__notebook__.ipynb",
   "output_path": "__notebook__.ipynb",
   "parameters": {},
   "start_time": "2022-04-24T22:00:33.318640",
   "version": "2.3.3"
  }
 },
 "nbformat": 4,
 "nbformat_minor": 5
}
